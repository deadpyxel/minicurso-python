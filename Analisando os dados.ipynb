{
 "cells": [
  {
   "cell_type": "code",
   "execution_count": 99,
   "metadata": {},
   "outputs": [],
   "source": [
    "import pandas as pd\n",
    "import numpy as np\n",
    "import matplotlib.pyplot as plt\n",
    "import seaborn as sns\n",
    "%matplotlib inline"
   ]
  },
  {
   "cell_type": "markdown",
   "metadata": {},
   "source": [
    "Vamos abrir o nosso CSV e olhar como nosso dados estão."
   ]
  },
  {
   "cell_type": "code",
   "execution_count": 100,
   "metadata": {},
   "outputs": [
    {
     "data": {
      "text/html": [
       "<div>\n",
       "<style scoped>\n",
       "    .dataframe tbody tr th:only-of-type {\n",
       "        vertical-align: middle;\n",
       "    }\n",
       "\n",
       "    .dataframe tbody tr th {\n",
       "        vertical-align: top;\n",
       "    }\n",
       "\n",
       "    .dataframe thead th {\n",
       "        text-align: right;\n",
       "    }\n",
       "</style>\n",
       "<table border=\"1\" class=\"dataframe\">\n",
       "  <thead>\n",
       "    <tr style=\"text-align: right;\">\n",
       "      <th></th>\n",
       "      <th>title</th>\n",
       "      <th>price</th>\n",
       "      <th>description</th>\n",
       "      <th>category</th>\n",
       "    </tr>\n",
       "  </thead>\n",
       "  <tbody>\n",
       "    <tr>\n",
       "      <th>0</th>\n",
       "      <td>Troco por carro</td>\n",
       "      <td>R$ 35.000</td>\n",
       "      <td>À venda   | 0 m² | Condomínio: R$ 0</td>\n",
       "      <td>Terrenos, sítios e fazendas</td>\n",
       "    </tr>\n",
       "    <tr>\n",
       "      <th>1</th>\n",
       "      <td>Apartamento em Guarulhos, 50m, 2 quartos, 1 va...</td>\n",
       "      <td>R$ 250.000</td>\n",
       "      <td>À venda   | 2 quartos | 50 m² | Condomínio: R$...</td>\n",
       "      <td>Apartamentos</td>\n",
       "    </tr>\n",
       "    <tr>\n",
       "      <th>2</th>\n",
       "      <td>Apartamento para locação em presidente prudent...</td>\n",
       "      <td>R$ 850</td>\n",
       "      <td>Para alugar   | 3 quartos | Condomínio: R$ 500</td>\n",
       "      <td>ApartamentosProfissional</td>\n",
       "    </tr>\n",
       "    <tr>\n",
       "      <th>3</th>\n",
       "      <td>Casa para venda em presidente prudente, santa ...</td>\n",
       "      <td>R$ 185.000</td>\n",
       "      <td>À venda   | 2 quartos | 189 m²</td>\n",
       "      <td>CasasProfissional</td>\n",
       "    </tr>\n",
       "    <tr>\n",
       "      <th>4</th>\n",
       "      <td>Apartamento para venda em presidente prudente,...</td>\n",
       "      <td>R$ 1.750.000</td>\n",
       "      <td>À venda   | 4 quartos | 530 m² | Condomínio: R...</td>\n",
       "      <td>ApartamentosProfissional</td>\n",
       "    </tr>\n",
       "  </tbody>\n",
       "</table>\n",
       "</div>"
      ],
      "text/plain": [
       "                                               title         price  \\\n",
       "0                                    Troco por carro     R$ 35.000   \n",
       "1  Apartamento em Guarulhos, 50m, 2 quartos, 1 va...    R$ 250.000   \n",
       "2  Apartamento para locação em presidente prudent...        R$ 850   \n",
       "3  Casa para venda em presidente prudente, santa ...    R$ 185.000   \n",
       "4  Apartamento para venda em presidente prudente,...  R$ 1.750.000   \n",
       "\n",
       "                                         description  \\\n",
       "0                À venda   | 0 m² | Condomínio: R$ 0   \n",
       "1  À venda   | 2 quartos | 50 m² | Condomínio: R$...   \n",
       "2     Para alugar   | 3 quartos | Condomínio: R$ 500   \n",
       "3                     À venda   | 2 quartos | 189 m²   \n",
       "4  À venda   | 4 quartos | 530 m² | Condomínio: R...   \n",
       "\n",
       "                      category  \n",
       "0  Terrenos, sítios e fazendas  \n",
       "1                 Apartamentos  \n",
       "2     ApartamentosProfissional  \n",
       "3            CasasProfissional  \n",
       "4     ApartamentosProfissional  "
      ]
     },
     "execution_count": 100,
     "metadata": {},
     "output_type": "execute_result"
    }
   ],
   "source": [
    "dados = pd.read_csv('house_list.csv')\n",
    "dados.head()"
   ]
  },
  {
   "cell_type": "code",
   "execution_count": 101,
   "metadata": {},
   "outputs": [
    {
     "name": "stdout",
     "output_type": "stream",
     "text": [
      "<class 'pandas.core.frame.DataFrame'>\n",
      "RangeIndex: 4884 entries, 0 to 4883\n",
      "Data columns (total 4 columns):\n",
      "title          4884 non-null object\n",
      "price          4884 non-null object\n",
      "description    4884 non-null object\n",
      "category       4884 non-null object\n",
      "dtypes: object(4)\n",
      "memory usage: 152.7+ KB\n"
     ]
    }
   ],
   "source": [
    "dados.info()"
   ]
  },
  {
   "cell_type": "code",
   "execution_count": 102,
   "metadata": {},
   "outputs": [
    {
     "data": {
      "text/html": [
       "<div>\n",
       "<style scoped>\n",
       "    .dataframe tbody tr th:only-of-type {\n",
       "        vertical-align: middle;\n",
       "    }\n",
       "\n",
       "    .dataframe tbody tr th {\n",
       "        vertical-align: top;\n",
       "    }\n",
       "\n",
       "    .dataframe thead th {\n",
       "        text-align: right;\n",
       "    }\n",
       "</style>\n",
       "<table border=\"1\" class=\"dataframe\">\n",
       "  <thead>\n",
       "    <tr style=\"text-align: right;\">\n",
       "      <th></th>\n",
       "      <th>title</th>\n",
       "      <th>price</th>\n",
       "      <th>description</th>\n",
       "      <th>category</th>\n",
       "    </tr>\n",
       "  </thead>\n",
       "  <tbody>\n",
       "    <tr>\n",
       "      <th>count</th>\n",
       "      <td>4884</td>\n",
       "      <td>4884</td>\n",
       "      <td>4884</td>\n",
       "      <td>4884</td>\n",
       "    </tr>\n",
       "    <tr>\n",
       "      <th>unique</th>\n",
       "      <td>3944</td>\n",
       "      <td>583</td>\n",
       "      <td>1804</td>\n",
       "      <td>11</td>\n",
       "    </tr>\n",
       "    <tr>\n",
       "      <th>top</th>\n",
       "      <td>Casa</td>\n",
       "      <td>R$ 250.000</td>\n",
       "      <td>Para alugar   | 2 quartos</td>\n",
       "      <td>Casas</td>\n",
       "    </tr>\n",
       "    <tr>\n",
       "      <th>freq</th>\n",
       "      <td>26</td>\n",
       "      <td>123</td>\n",
       "      <td>183</td>\n",
       "      <td>1264</td>\n",
       "    </tr>\n",
       "  </tbody>\n",
       "</table>\n",
       "</div>"
      ],
      "text/plain": [
       "       title       price                description category\n",
       "count   4884        4884                       4884     4884\n",
       "unique  3944         583                       1804       11\n",
       "top     Casa  R$ 250.000  Para alugar   | 2 quartos    Casas\n",
       "freq      26         123                        183     1264"
      ]
     },
     "execution_count": 102,
     "metadata": {},
     "output_type": "execute_result"
    }
   ],
   "source": [
    "dados.describe()"
   ]
  },
  {
   "cell_type": "markdown",
   "metadata": {},
   "source": [
    "Ok, mas e como selecionamos um subconjunto dos nossos dados?"
   ]
  },
  {
   "cell_type": "code",
   "execution_count": 104,
   "metadata": {},
   "outputs": [
    {
     "data": {
      "text/html": [
       "<div>\n",
       "<style scoped>\n",
       "    .dataframe tbody tr th:only-of-type {\n",
       "        vertical-align: middle;\n",
       "    }\n",
       "\n",
       "    .dataframe tbody tr th {\n",
       "        vertical-align: top;\n",
       "    }\n",
       "\n",
       "    .dataframe thead th {\n",
       "        text-align: right;\n",
       "    }\n",
       "</style>\n",
       "<table border=\"1\" class=\"dataframe\">\n",
       "  <thead>\n",
       "    <tr style=\"text-align: right;\">\n",
       "      <th></th>\n",
       "      <th>title</th>\n",
       "      <th>price</th>\n",
       "      <th>description</th>\n",
       "      <th>category</th>\n",
       "    </tr>\n",
       "  </thead>\n",
       "  <tbody>\n",
       "    <tr>\n",
       "      <th>1</th>\n",
       "      <td>Apartamento em Guarulhos, 50m, 2 quartos, 1 va...</td>\n",
       "      <td>R$ 250.000</td>\n",
       "      <td>À venda   | 2 quartos | 50 m² | Condomínio: R$...</td>\n",
       "      <td>Apartamentos</td>\n",
       "    </tr>\n",
       "    <tr>\n",
       "      <th>5</th>\n",
       "      <td>Apto ed petit maison</td>\n",
       "      <td>R$ 260.000</td>\n",
       "      <td>À venda   | 2 quartos | 54 m² | Condomínio: R$...</td>\n",
       "      <td>Apartamentos</td>\n",
       "    </tr>\n",
       "    <tr>\n",
       "      <th>9</th>\n",
       "      <td>Alugo Apartamento</td>\n",
       "      <td>R$ 95.000</td>\n",
       "      <td>Para alugar   | 4 quartos | 130 m² | Condomíni...</td>\n",
       "      <td>Apartamentos</td>\n",
       "    </tr>\n",
       "    <tr>\n",
       "      <th>17</th>\n",
       "      <td>Alugo apto proximo - Maristela</td>\n",
       "      <td>R$ 398.000</td>\n",
       "      <td>Para alugar   | 3 quartos | 120 m² | Condomíni...</td>\n",
       "      <td>Apartamentos</td>\n",
       "    </tr>\n",
       "    <tr>\n",
       "      <th>28</th>\n",
       "      <td>Oportunidade de morar localização privilegiada...</td>\n",
       "      <td>R$ 150.000</td>\n",
       "      <td>À venda   | 2 quartos | 99 m²</td>\n",
       "      <td>Apartamentos</td>\n",
       "    </tr>\n",
       "    <tr>\n",
       "      <th>45</th>\n",
       "      <td>Imovel</td>\n",
       "      <td>R$ 270.000</td>\n",
       "      <td>Para alugar   | 1 quarto</td>\n",
       "      <td>Apartamentos</td>\n",
       "    </tr>\n",
       "    <tr>\n",
       "      <th>46</th>\n",
       "      <td>Edifício Primavera</td>\n",
       "      <td>R$ 168.000</td>\n",
       "      <td>À venda   | 3 quartos | 88 m² | Condomínio: R$...</td>\n",
       "      <td>Apartamentos</td>\n",
       "    </tr>\n",
       "    <tr>\n",
       "      <th>49</th>\n",
       "      <td>Apartamento para venda Res. Alto da Colina</td>\n",
       "      <td>R$ 160.000</td>\n",
       "      <td>À venda   | 2 quartos | 55 m² | Condomínio: R$...</td>\n",
       "      <td>Apartamentos</td>\n",
       "    </tr>\n",
       "    <tr>\n",
       "      <th>65</th>\n",
       "      <td>Alugo apto proximo - Maristela</td>\n",
       "      <td>R$ 230.000</td>\n",
       "      <td>Para alugar   | 3 quartos | 120 m² | Condomíni...</td>\n",
       "      <td>Apartamentos</td>\n",
       "    </tr>\n",
       "    <tr>\n",
       "      <th>73</th>\n",
       "      <td>Apartamento residencial MRV Mônaco</td>\n",
       "      <td>R$ 250.000</td>\n",
       "      <td>À venda   | 2 quartos | Condomínio: R$ 200</td>\n",
       "      <td>Apartamentos</td>\n",
       "    </tr>\n",
       "    <tr>\n",
       "      <th>74</th>\n",
       "      <td>Vendo Apto Pres.Prud-Resid.Vivendas próx do Eu...</td>\n",
       "      <td>R$ 320.000</td>\n",
       "      <td>À venda   | 2 quartos | 60 m² | Condomínio: R$...</td>\n",
       "      <td>Apartamentos</td>\n",
       "    </tr>\n",
       "    <tr>\n",
       "      <th>85</th>\n",
       "      <td>Ap centrão de P.Prudente X Imóvel na Praia</td>\n",
       "      <td>R$ 800</td>\n",
       "      <td>À venda   | 2 quartos | 109 m² | Condomínio: R...</td>\n",
       "      <td>Apartamentos</td>\n",
       "    </tr>\n",
       "    <tr>\n",
       "      <th>107</th>\n",
       "      <td>Pq. Principe Imperial - Apartamento locação</td>\n",
       "      <td>R$ 600</td>\n",
       "      <td>Para alugar   | 2 quartos | 51 m² | Condomínio...</td>\n",
       "      <td>Apartamentos</td>\n",
       "    </tr>\n",
       "    <tr>\n",
       "      <th>108</th>\n",
       "      <td>Imovel</td>\n",
       "      <td>R$ 400</td>\n",
       "      <td>Para alugar   | 1 quarto</td>\n",
       "      <td>Apartamentos</td>\n",
       "    </tr>\n",
       "    <tr>\n",
       "      <th>114</th>\n",
       "      <td>Cond. Saint Paul I - Apto para Locação</td>\n",
       "      <td>R$ 450</td>\n",
       "      <td>Para alugar   | 3 quartos | 72 m² | Condomínio...</td>\n",
       "      <td>Apartamentos</td>\n",
       "    </tr>\n",
       "    <tr>\n",
       "      <th>120</th>\n",
       "      <td>Vendo apto próximo ao HR</td>\n",
       "      <td>R$ 255.000</td>\n",
       "      <td>À venda   | 1 quarto | 54 m² | Condomínio: R$ 400</td>\n",
       "      <td>Apartamentos</td>\n",
       "    </tr>\n",
       "    <tr>\n",
       "      <th>123</th>\n",
       "      <td>Jd. Eldorado, com 02 dormitórios - Preço de Oc...</td>\n",
       "      <td>R$ 127.000</td>\n",
       "      <td>À venda   | 2 quartos | 47 m² | Condomínio: R$...</td>\n",
       "      <td>Apartamentos</td>\n",
       "    </tr>\n",
       "    <tr>\n",
       "      <th>145</th>\n",
       "      <td>Lançamento Vertical Neo Petrópolis</td>\n",
       "      <td>R$ 335.638</td>\n",
       "      <td>À venda   | 1 quarto | 42 m² | Condomínio: R$ 330</td>\n",
       "      <td>Apartamentos</td>\n",
       "    </tr>\n",
       "    <tr>\n",
       "      <th>149</th>\n",
       "      <td>Lançamento Vertical Neo Petrópolis</td>\n",
       "      <td>R$ 335.638</td>\n",
       "      <td>À venda   | 1 quarto | 42 m² | Condomínio: R$ 330</td>\n",
       "      <td>Apartamentos</td>\n",
       "    </tr>\n",
       "    <tr>\n",
       "      <th>154</th>\n",
       "      <td>Apto Príncipe Andorra, 02 dormitórios com armá...</td>\n",
       "      <td>R$ 175.000</td>\n",
       "      <td>À venda   | 2 quartos | 52 m² | Condomínio: R$...</td>\n",
       "      <td>Apartamentos</td>\n",
       "    </tr>\n",
       "    <tr>\n",
       "      <th>155</th>\n",
       "      <td>Apartamento 2 dormitórios</td>\n",
       "      <td>R$ 800</td>\n",
       "      <td>Para alugar   | 2 quartos | 50 m² | Condomínio...</td>\n",
       "      <td>Apartamentos</td>\n",
       "    </tr>\n",
       "    <tr>\n",
       "      <th>161</th>\n",
       "      <td>Apto 10 min do centro com segurança 24 hs</td>\n",
       "      <td>R$ 650</td>\n",
       "      <td>Para alugar   | 2 quartos | 50 m² | Condomínio...</td>\n",
       "      <td>Apartamentos</td>\n",
       "    </tr>\n",
       "    <tr>\n",
       "      <th>165</th>\n",
       "      <td>Apartamento</td>\n",
       "      <td>R$ 460.000</td>\n",
       "      <td>À venda   | 3 quartos</td>\n",
       "      <td>Apartamentos</td>\n",
       "    </tr>\n",
       "    <tr>\n",
       "      <th>177</th>\n",
       "      <td>Cond. Jeronimo Vilela - Pres. Prudente-SP</td>\n",
       "      <td>R$ 700</td>\n",
       "      <td>Para alugar   | 3 quartos | 89 m² | Condomínio...</td>\n",
       "      <td>Apartamentos</td>\n",
       "    </tr>\n",
       "    <tr>\n",
       "      <th>207</th>\n",
       "      <td>Apartamento</td>\n",
       "      <td>R$ 460.000</td>\n",
       "      <td>À venda   | 3 quartos</td>\n",
       "      <td>Apartamentos</td>\n",
       "    </tr>\n",
       "    <tr>\n",
       "      <th>208</th>\n",
       "      <td>Apartamento no Centro abaixo do valor de mercado</td>\n",
       "      <td>R$ 420.000</td>\n",
       "      <td>À venda   | 4 quartos | 160 m² | Condomínio: R...</td>\n",
       "      <td>Apartamentos</td>\n",
       "    </tr>\n",
       "    <tr>\n",
       "      <th>244</th>\n",
       "      <td>Edifício Aoki Residence Park leal imoveis 3903...</td>\n",
       "      <td>R$ 1.750.000</td>\n",
       "      <td>À venda   | 4 quartos</td>\n",
       "      <td>Apartamentos</td>\n",
       "    </tr>\n",
       "    <tr>\n",
       "      <th>275</th>\n",
       "      <td>Apartamento Prudente Home Trade Center</td>\n",
       "      <td>R$ 40.000</td>\n",
       "      <td>Para alugar   | 1 quarto | 25 m² | Condomínio:...</td>\n",
       "      <td>Apartamentos</td>\n",
       "    </tr>\n",
       "    <tr>\n",
       "      <th>283</th>\n",
       "      <td>Negócio de Ocasião Apartamento vendo</td>\n",
       "      <td>R$ 880</td>\n",
       "      <td>À venda   | 3 quartos | 87 m² | Condomínio: R$...</td>\n",
       "      <td>Apartamentos</td>\n",
       "    </tr>\n",
       "    <tr>\n",
       "      <th>288</th>\n",
       "      <td>Alugo apartamento</td>\n",
       "      <td>R$ 22.000</td>\n",
       "      <td>Para alugar   | 2 quartos | 60 m² | Condomínio...</td>\n",
       "      <td>Apartamentos</td>\n",
       "    </tr>\n",
       "    <tr>\n",
       "      <th>...</th>\n",
       "      <td>...</td>\n",
       "      <td>...</td>\n",
       "      <td>...</td>\n",
       "      <td>...</td>\n",
       "    </tr>\n",
       "    <tr>\n",
       "      <th>4595</th>\n",
       "      <td>Aluguel</td>\n",
       "      <td>R$ 550</td>\n",
       "      <td>Para alugar   | 1 quarto | 38 m² | Condomínio:...</td>\n",
       "      <td>Apartamentos</td>\n",
       "    </tr>\n",
       "    <tr>\n",
       "      <th>4596</th>\n",
       "      <td>Ap novo próximo ao Prudenshopping - Tork Imóveis</td>\n",
       "      <td>R$ 1.350</td>\n",
       "      <td>Para alugar   | 2 quartos | 60 m² | Condomínio...</td>\n",
       "      <td>Apartamentos</td>\n",
       "    </tr>\n",
       "    <tr>\n",
       "      <th>4598</th>\n",
       "      <td>Ap amplo 210 m² no Jd Paulista - Tork Imóveis</td>\n",
       "      <td>R$ 2.200</td>\n",
       "      <td>Para alugar   | 4 quartos | 210 m² | Condomíni...</td>\n",
       "      <td>Apartamentos</td>\n",
       "    </tr>\n",
       "    <tr>\n",
       "      <th>4600</th>\n",
       "      <td>Ap 3 dormitórios próximo ao Prudenshopping - T...</td>\n",
       "      <td>R$ 1.700</td>\n",
       "      <td>Para alugar   | 3 quartos | 160 m² | Condomíni...</td>\n",
       "      <td>Apartamentos</td>\n",
       "    </tr>\n",
       "    <tr>\n",
       "      <th>4603</th>\n",
       "      <td>Apartamento 2 quartos no Bongiovani - Tork Imó...</td>\n",
       "      <td>R$ 1.000</td>\n",
       "      <td>Para alugar   | 2 quartos | 85 m² | Condomínio...</td>\n",
       "      <td>Apartamentos</td>\n",
       "    </tr>\n",
       "    <tr>\n",
       "      <th>4605</th>\n",
       "      <td>Atalaia leal imoveis 3903-1020 plantão todos o...</td>\n",
       "      <td>R$ 100.000</td>\n",
       "      <td>À venda   | 2 quartos | 50 m²</td>\n",
       "      <td>Apartamentos</td>\n",
       "    </tr>\n",
       "    <tr>\n",
       "      <th>4614</th>\n",
       "      <td>Lindo ap novo no Torres Inglaterra - Tork Imóveis</td>\n",
       "      <td>R$ 490.000</td>\n",
       "      <td>À venda   | 3 quartos | 81 m²</td>\n",
       "      <td>Apartamentos</td>\n",
       "    </tr>\n",
       "    <tr>\n",
       "      <th>4616</th>\n",
       "      <td>Apartamento com 2 dormitórios à venda, 80 m² p...</td>\n",
       "      <td>R$ 650.000</td>\n",
       "      <td>À venda   | 2 quartos | 80 m² | Condomínio: R$...</td>\n",
       "      <td>Apartamentos</td>\n",
       "    </tr>\n",
       "    <tr>\n",
       "      <th>4644</th>\n",
       "      <td>Apartamento Face Sombra no Itatiaia em Preside...</td>\n",
       "      <td>R$ 170.000</td>\n",
       "      <td>À venda   | 2 quartos | 50 m² | Condomínio: R$ 70</td>\n",
       "      <td>Apartamentos</td>\n",
       "    </tr>\n",
       "    <tr>\n",
       "      <th>4647</th>\n",
       "      <td>Cond. Jeronimo Vilela</td>\n",
       "      <td>R$ 265.000</td>\n",
       "      <td>À venda   | 3 quartos | 89 m² | Condomínio: R$...</td>\n",
       "      <td>Apartamentos</td>\n",
       "    </tr>\n",
       "    <tr>\n",
       "      <th>4649</th>\n",
       "      <td>Jardim Bongiovani</td>\n",
       "      <td>R$ 395.000</td>\n",
       "      <td>À venda   | 3 quartos | 112 m² | Condomínio: R...</td>\n",
       "      <td>Apartamentos</td>\n",
       "    </tr>\n",
       "    <tr>\n",
       "      <th>4653</th>\n",
       "      <td>Cond. Príncipe de Mônaco</td>\n",
       "      <td>R$ 140.000</td>\n",
       "      <td>À venda   | 2 quartos | 48 m²</td>\n",
       "      <td>Apartamentos</td>\n",
       "    </tr>\n",
       "    <tr>\n",
       "      <th>4657</th>\n",
       "      <td>Ed. Euclydes Bello de Oliveira - Pres. Prudent...</td>\n",
       "      <td>R$ 58.000</td>\n",
       "      <td>Para alugar   | 2 quartos | 60 m² | Condomínio...</td>\n",
       "      <td>Apartamentos</td>\n",
       "    </tr>\n",
       "    <tr>\n",
       "      <th>4659</th>\n",
       "      <td>Vendo apartamento</td>\n",
       "      <td>R$ 168.000</td>\n",
       "      <td>À venda   | 2 quartos | Condomínio: R$ 250</td>\n",
       "      <td>Apartamentos</td>\n",
       "    </tr>\n",
       "    <tr>\n",
       "      <th>4669</th>\n",
       "      <td>Apartamento vendo ou troco por casa</td>\n",
       "      <td>R$ 55.000</td>\n",
       "      <td>À venda   | 3 quartos | 80 m² | Condomínio: R$...</td>\n",
       "      <td>Apartamentos</td>\n",
       "    </tr>\n",
       "    <tr>\n",
       "      <th>4670</th>\n",
       "      <td>Ap 3 dormitórios novo no Centro - Tork Imóveis</td>\n",
       "      <td>R$ 600</td>\n",
       "      <td>Para alugar   | 3 quartos | 108 m² | Condomíni...</td>\n",
       "      <td>Apartamentos</td>\n",
       "    </tr>\n",
       "    <tr>\n",
       "      <th>4672</th>\n",
       "      <td>Apartamento no Jd. Bongiovani - Próximo ao Cam...</td>\n",
       "      <td>R$ 1.250.000</td>\n",
       "      <td>Para alugar   | 3 quartos</td>\n",
       "      <td>Apartamentos</td>\n",
       "    </tr>\n",
       "    <tr>\n",
       "      <th>4673</th>\n",
       "      <td>Apartamento para entregar daqui a 16 meses, 02...</td>\n",
       "      <td>R$ 1.100</td>\n",
       "      <td>À venda   | 2 quartos | 67 m²</td>\n",
       "      <td>Apartamentos</td>\n",
       "    </tr>\n",
       "    <tr>\n",
       "      <th>4675</th>\n",
       "      <td>Apartamento próximo ao centro</td>\n",
       "      <td>R$ 230.000</td>\n",
       "      <td>Para alugar   | 2 quartos | Condomínio: R$ 190</td>\n",
       "      <td>Apartamentos</td>\n",
       "    </tr>\n",
       "    <tr>\n",
       "      <th>4677</th>\n",
       "      <td>Apartamento mobiliado em frente ao HR</td>\n",
       "      <td>R$ 260.000</td>\n",
       "      <td>À venda   | 2 quartos | 118 m² | Condomínio: R...</td>\n",
       "      <td>Apartamentos</td>\n",
       "    </tr>\n",
       "    <tr>\n",
       "      <th>4678</th>\n",
       "      <td>Apartamento 1 dormitorio próximo ao centro</td>\n",
       "      <td>R$ 800</td>\n",
       "      <td>Para alugar   | 1 quarto | Condomínio: R$ 150</td>\n",
       "      <td>Apartamentos</td>\n",
       "    </tr>\n",
       "    <tr>\n",
       "      <th>4679</th>\n",
       "      <td>Ed. Ravena próximo ao prudentão</td>\n",
       "      <td>R$ 550</td>\n",
       "      <td>À venda   | 2 quartos</td>\n",
       "      <td>Apartamentos</td>\n",
       "    </tr>\n",
       "    <tr>\n",
       "      <th>4681</th>\n",
       "      <td>Principe de monaco leal imoveis 3903-1020 plan...</td>\n",
       "      <td>R$ 450.000</td>\n",
       "      <td>Para alugar   | 2 quartos</td>\n",
       "      <td>Apartamentos</td>\n",
       "    </tr>\n",
       "    <tr>\n",
       "      <th>4686</th>\n",
       "      <td>Vendo apto novo</td>\n",
       "      <td>R$ 590.000</td>\n",
       "      <td>À venda   | 2 quartos | Condomínio: R$ 200</td>\n",
       "      <td>Apartamentos</td>\n",
       "    </tr>\n",
       "    <tr>\n",
       "      <th>4720</th>\n",
       "      <td>Aluguel</td>\n",
       "      <td>R$ 300.000</td>\n",
       "      <td>À venda   | 2 quartos | Condomínio: R$ 160</td>\n",
       "      <td>Apartamentos</td>\n",
       "    </tr>\n",
       "    <tr>\n",
       "      <th>4740</th>\n",
       "      <td>Vendo ou Alugo Apto Princ. de Astúrias</td>\n",
       "      <td>R$ 45.000</td>\n",
       "      <td>Para alugar   | 1 quarto | 57 m²</td>\n",
       "      <td>Apartamentos</td>\n",
       "    </tr>\n",
       "    <tr>\n",
       "      <th>4746</th>\n",
       "      <td>Apartamento Residencial Parque dos Pássaros, E...</td>\n",
       "      <td>R$ 80.000</td>\n",
       "      <td>À venda   | 2 quartos | 86 m² | Condomínio: R$...</td>\n",
       "      <td>Apartamentos</td>\n",
       "    </tr>\n",
       "    <tr>\n",
       "      <th>4789</th>\n",
       "      <td>Apartamento para Venda, bairro Santa Helena - ...</td>\n",
       "      <td>R$ 210.000</td>\n",
       "      <td>À venda   | 3 quartos</td>\n",
       "      <td>Apartamentos</td>\n",
       "    </tr>\n",
       "    <tr>\n",
       "      <th>4851</th>\n",
       "      <td>Apartamento com 4 suítes no Centro de Presiden...</td>\n",
       "      <td>R$ 1.200</td>\n",
       "      <td>Para alugar   | 4 quartos</td>\n",
       "      <td>Apartamentos</td>\n",
       "    </tr>\n",
       "    <tr>\n",
       "      <th>4871</th>\n",
       "      <td>Edifício Portinari leal imoveis 3903-1020 plan...</td>\n",
       "      <td>R$ 80.000</td>\n",
       "      <td>Para alugar   | 4 quartos</td>\n",
       "      <td>Apartamentos</td>\n",
       "    </tr>\n",
       "  </tbody>\n",
       "</table>\n",
       "<p>470 rows × 4 columns</p>\n",
       "</div>"
      ],
      "text/plain": [
       "                                                  title         price  \\\n",
       "1     Apartamento em Guarulhos, 50m, 2 quartos, 1 va...    R$ 250.000   \n",
       "5                                  Apto ed petit maison    R$ 260.000   \n",
       "9                                     Alugo Apartamento     R$ 95.000   \n",
       "17                       Alugo apto proximo - Maristela    R$ 398.000   \n",
       "28    Oportunidade de morar localização privilegiada...    R$ 150.000   \n",
       "45                                               Imovel    R$ 270.000   \n",
       "46                                   Edifício Primavera    R$ 168.000   \n",
       "49           Apartamento para venda Res. Alto da Colina    R$ 160.000   \n",
       "65                       Alugo apto proximo - Maristela    R$ 230.000   \n",
       "73                   Apartamento residencial MRV Mônaco    R$ 250.000   \n",
       "74    Vendo Apto Pres.Prud-Resid.Vivendas próx do Eu...    R$ 320.000   \n",
       "85           Ap centrão de P.Prudente X Imóvel na Praia        R$ 800   \n",
       "107         Pq. Principe Imperial - Apartamento locação        R$ 600   \n",
       "108                                              Imovel        R$ 400   \n",
       "114              Cond. Saint Paul I - Apto para Locação        R$ 450   \n",
       "120                            Vendo apto próximo ao HR    R$ 255.000   \n",
       "123   Jd. Eldorado, com 02 dormitórios - Preço de Oc...    R$ 127.000   \n",
       "145                  Lançamento Vertical Neo Petrópolis    R$ 335.638   \n",
       "149                  Lançamento Vertical Neo Petrópolis    R$ 335.638   \n",
       "154   Apto Príncipe Andorra, 02 dormitórios com armá...    R$ 175.000   \n",
       "155                           Apartamento 2 dormitórios        R$ 800   \n",
       "161           Apto 10 min do centro com segurança 24 hs        R$ 650   \n",
       "165                                         Apartamento    R$ 460.000   \n",
       "177           Cond. Jeronimo Vilela - Pres. Prudente-SP        R$ 700   \n",
       "207                                         Apartamento    R$ 460.000   \n",
       "208    Apartamento no Centro abaixo do valor de mercado    R$ 420.000   \n",
       "244   Edifício Aoki Residence Park leal imoveis 3903...  R$ 1.750.000   \n",
       "275              Apartamento Prudente Home Trade Center     R$ 40.000   \n",
       "283                Negócio de Ocasião Apartamento vendo        R$ 880   \n",
       "288                                   Alugo apartamento     R$ 22.000   \n",
       "...                                                 ...           ...   \n",
       "4595                                            Aluguel        R$ 550   \n",
       "4596   Ap novo próximo ao Prudenshopping - Tork Imóveis      R$ 1.350   \n",
       "4598      Ap amplo 210 m² no Jd Paulista - Tork Imóveis      R$ 2.200   \n",
       "4600  Ap 3 dormitórios próximo ao Prudenshopping - T...      R$ 1.700   \n",
       "4603  Apartamento 2 quartos no Bongiovani - Tork Imó...      R$ 1.000   \n",
       "4605  Atalaia leal imoveis 3903-1020 plantão todos o...    R$ 100.000   \n",
       "4614  Lindo ap novo no Torres Inglaterra - Tork Imóveis    R$ 490.000   \n",
       "4616  Apartamento com 2 dormitórios à venda, 80 m² p...    R$ 650.000   \n",
       "4644  Apartamento Face Sombra no Itatiaia em Preside...    R$ 170.000   \n",
       "4647                              Cond. Jeronimo Vilela    R$ 265.000   \n",
       "4649                                  Jardim Bongiovani    R$ 395.000   \n",
       "4653                           Cond. Príncipe de Mônaco    R$ 140.000   \n",
       "4657  Ed. Euclydes Bello de Oliveira - Pres. Prudent...     R$ 58.000   \n",
       "4659                                  Vendo apartamento    R$ 168.000   \n",
       "4669                Apartamento vendo ou troco por casa     R$ 55.000   \n",
       "4670     Ap 3 dormitórios novo no Centro - Tork Imóveis        R$ 600   \n",
       "4672  Apartamento no Jd. Bongiovani - Próximo ao Cam...  R$ 1.250.000   \n",
       "4673  Apartamento para entregar daqui a 16 meses, 02...      R$ 1.100   \n",
       "4675                      Apartamento próximo ao centro    R$ 230.000   \n",
       "4677              Apartamento mobiliado em frente ao HR    R$ 260.000   \n",
       "4678         Apartamento 1 dormitorio próximo ao centro        R$ 800   \n",
       "4679                    Ed. Ravena próximo ao prudentão        R$ 550   \n",
       "4681  Principe de monaco leal imoveis 3903-1020 plan...    R$ 450.000   \n",
       "4686                                    Vendo apto novo    R$ 590.000   \n",
       "4720                                            Aluguel    R$ 300.000   \n",
       "4740             Vendo ou Alugo Apto Princ. de Astúrias     R$ 45.000   \n",
       "4746  Apartamento Residencial Parque dos Pássaros, E...     R$ 80.000   \n",
       "4789  Apartamento para Venda, bairro Santa Helena - ...    R$ 210.000   \n",
       "4851  Apartamento com 4 suítes no Centro de Presiden...      R$ 1.200   \n",
       "4871  Edifício Portinari leal imoveis 3903-1020 plan...     R$ 80.000   \n",
       "\n",
       "                                            description      category  \n",
       "1     À venda   | 2 quartos | 50 m² | Condomínio: R$...  Apartamentos  \n",
       "5     À venda   | 2 quartos | 54 m² | Condomínio: R$...  Apartamentos  \n",
       "9     Para alugar   | 4 quartos | 130 m² | Condomíni...  Apartamentos  \n",
       "17    Para alugar   | 3 quartos | 120 m² | Condomíni...  Apartamentos  \n",
       "28                        À venda   | 2 quartos | 99 m²  Apartamentos  \n",
       "45                             Para alugar   | 1 quarto  Apartamentos  \n",
       "46    À venda   | 3 quartos | 88 m² | Condomínio: R$...  Apartamentos  \n",
       "49    À venda   | 2 quartos | 55 m² | Condomínio: R$...  Apartamentos  \n",
       "65    Para alugar   | 3 quartos | 120 m² | Condomíni...  Apartamentos  \n",
       "73           À venda   | 2 quartos | Condomínio: R$ 200  Apartamentos  \n",
       "74    À venda   | 2 quartos | 60 m² | Condomínio: R$...  Apartamentos  \n",
       "85    À venda   | 2 quartos | 109 m² | Condomínio: R...  Apartamentos  \n",
       "107   Para alugar   | 2 quartos | 51 m² | Condomínio...  Apartamentos  \n",
       "108                            Para alugar   | 1 quarto  Apartamentos  \n",
       "114   Para alugar   | 3 quartos | 72 m² | Condomínio...  Apartamentos  \n",
       "120   À venda   | 1 quarto | 54 m² | Condomínio: R$ 400  Apartamentos  \n",
       "123   À venda   | 2 quartos | 47 m² | Condomínio: R$...  Apartamentos  \n",
       "145   À venda   | 1 quarto | 42 m² | Condomínio: R$ 330  Apartamentos  \n",
       "149   À venda   | 1 quarto | 42 m² | Condomínio: R$ 330  Apartamentos  \n",
       "154   À venda   | 2 quartos | 52 m² | Condomínio: R$...  Apartamentos  \n",
       "155   Para alugar   | 2 quartos | 50 m² | Condomínio...  Apartamentos  \n",
       "161   Para alugar   | 2 quartos | 50 m² | Condomínio...  Apartamentos  \n",
       "165                               À venda   | 3 quartos  Apartamentos  \n",
       "177   Para alugar   | 3 quartos | 89 m² | Condomínio...  Apartamentos  \n",
       "207                               À venda   | 3 quartos  Apartamentos  \n",
       "208   À venda   | 4 quartos | 160 m² | Condomínio: R...  Apartamentos  \n",
       "244                               À venda   | 4 quartos  Apartamentos  \n",
       "275   Para alugar   | 1 quarto | 25 m² | Condomínio:...  Apartamentos  \n",
       "283   À venda   | 3 quartos | 87 m² | Condomínio: R$...  Apartamentos  \n",
       "288   Para alugar   | 2 quartos | 60 m² | Condomínio...  Apartamentos  \n",
       "...                                                 ...           ...  \n",
       "4595  Para alugar   | 1 quarto | 38 m² | Condomínio:...  Apartamentos  \n",
       "4596  Para alugar   | 2 quartos | 60 m² | Condomínio...  Apartamentos  \n",
       "4598  Para alugar   | 4 quartos | 210 m² | Condomíni...  Apartamentos  \n",
       "4600  Para alugar   | 3 quartos | 160 m² | Condomíni...  Apartamentos  \n",
       "4603  Para alugar   | 2 quartos | 85 m² | Condomínio...  Apartamentos  \n",
       "4605                      À venda   | 2 quartos | 50 m²  Apartamentos  \n",
       "4614                      À venda   | 3 quartos | 81 m²  Apartamentos  \n",
       "4616  À venda   | 2 quartos | 80 m² | Condomínio: R$...  Apartamentos  \n",
       "4644  À venda   | 2 quartos | 50 m² | Condomínio: R$ 70  Apartamentos  \n",
       "4647  À venda   | 3 quartos | 89 m² | Condomínio: R$...  Apartamentos  \n",
       "4649  À venda   | 3 quartos | 112 m² | Condomínio: R...  Apartamentos  \n",
       "4653                      À venda   | 2 quartos | 48 m²  Apartamentos  \n",
       "4657  Para alugar   | 2 quartos | 60 m² | Condomínio...  Apartamentos  \n",
       "4659         À venda   | 2 quartos | Condomínio: R$ 250  Apartamentos  \n",
       "4669  À venda   | 3 quartos | 80 m² | Condomínio: R$...  Apartamentos  \n",
       "4670  Para alugar   | 3 quartos | 108 m² | Condomíni...  Apartamentos  \n",
       "4672                          Para alugar   | 3 quartos  Apartamentos  \n",
       "4673                      À venda   | 2 quartos | 67 m²  Apartamentos  \n",
       "4675     Para alugar   | 2 quartos | Condomínio: R$ 190  Apartamentos  \n",
       "4677  À venda   | 2 quartos | 118 m² | Condomínio: R...  Apartamentos  \n",
       "4678      Para alugar   | 1 quarto | Condomínio: R$ 150  Apartamentos  \n",
       "4679                              À venda   | 2 quartos  Apartamentos  \n",
       "4681                          Para alugar   | 2 quartos  Apartamentos  \n",
       "4686         À venda   | 2 quartos | Condomínio: R$ 200  Apartamentos  \n",
       "4720         À venda   | 2 quartos | Condomínio: R$ 160  Apartamentos  \n",
       "4740                   Para alugar   | 1 quarto | 57 m²  Apartamentos  \n",
       "4746  À venda   | 2 quartos | 86 m² | Condomínio: R$...  Apartamentos  \n",
       "4789                              À venda   | 3 quartos  Apartamentos  \n",
       "4851                          Para alugar   | 4 quartos  Apartamentos  \n",
       "4871                          Para alugar   | 4 quartos  Apartamentos  \n",
       "\n",
       "[470 rows x 4 columns]"
      ]
     },
     "execution_count": 104,
     "metadata": {},
     "output_type": "execute_result"
    }
   ],
   "source": [
    "dados[dados['category'] == 'Apartamentos']"
   ]
  },
  {
   "cell_type": "markdown",
   "metadata": {},
   "source": [
    "Vamos fazer uma limpeza nesses dados:\n",
    "\n",
    "- Temos dados numéricos não corretamente tipados,\n",
    "- Temos dados de texto não bem formatados."
   ]
  },
  {
   "cell_type": "code",
   "execution_count": 105,
   "metadata": {},
   "outputs": [],
   "source": [
    "dados.dropna(how='any', inplace=True)\n",
    "\n",
    "# Vamos verificar se nossos preços estão sempre no emsmo formato\n",
    "dados[dados['price'].apply(lambda x: False if x[0] == 'R$' else True)]\n",
    "dados['price'] = dados['price'].apply(lambda x: x.replace('.', ''))\n",
    "dados['price'] = dados['price'].apply(lambda x: 0.0 if x == '0' else float(x[3:]))\n"
   ]
  },
  {
   "cell_type": "code",
   "execution_count": 127,
   "metadata": {},
   "outputs": [
    {
     "name": "stdout",
     "output_type": "stream",
     "text": [
      "Avg\t451675.54524979525\n",
      "DV\t2897341.1478789435\n",
      "Mediana\t8394585727192.475\n"
     ]
    }
   ],
   "source": [
    "price_list = dados['price']\n",
    "\n",
    "print(f'Avg\\t{np.array(price_list).mean()}')\n",
    "print(f'DV\\t{np.array(price_list).std()}')\n",
    "print(f'Variancia\\t{np.array(price_list).var()}')\n"
   ]
  },
  {
   "cell_type": "code",
   "execution_count": 106,
   "metadata": {},
   "outputs": [
    {
     "name": "stdout",
     "output_type": "stream",
     "text": [
      "<class 'pandas.core.frame.DataFrame'>\n",
      "Int64Index: 4884 entries, 0 to 4883\n",
      "Data columns (total 4 columns):\n",
      "title          4884 non-null object\n",
      "price          4884 non-null float64\n",
      "description    4884 non-null object\n",
      "category       4884 non-null object\n",
      "dtypes: float64(1), object(3)\n",
      "memory usage: 190.8+ KB\n"
     ]
    }
   ],
   "source": [
    "dados.info()"
   ]
  },
  {
   "cell_type": "code",
   "execution_count": 107,
   "metadata": {},
   "outputs": [
    {
     "name": "stdout",
     "output_type": "stream",
     "text": [
      "('Aluguel de quartos', 2681240.0)\n",
      "('Apartamentos', 263828.13191489363)\n",
      "('ApartamentosProfissional', 271528.4436781609)\n",
      "('Casas', 446610.605221519)\n",
      "('CasasProfissional', 620317.6476833976)\n",
      "('Comércio e indústria', 335458.5885167464)\n",
      "('Comércio e indústriaProfissional', 390866.5483870968)\n",
      "('LançamentosProfissional', 140844.0)\n",
      "('Temporada', 217603.84615384616)\n",
      "('Terrenos, sítios e fazendas', 573022.4750778816)\n",
      "('Terrenos, sítios e fazendasProfissional', 351843.9090909091)\n"
     ]
    }
   ],
   "source": [
    "groupby_category = dados.groupby('category')\n",
    "\n",
    "for cat, value in groupby_category['price']:\n",
    "    print((cat, value.mean()))"
   ]
  },
  {
   "cell_type": "code",
   "execution_count": 108,
   "metadata": {},
   "outputs": [
    {
     "name": "stdout",
     "output_type": "stream",
     "text": [
      "<class 'pandas.core.frame.DataFrame'>\n",
      "Int64Index: 4884 entries, 0 to 4883\n",
      "Data columns (total 4 columns):\n",
      "title          4884 non-null object\n",
      "price          4884 non-null float64\n",
      "description    4884 non-null object\n",
      "category       4884 non-null object\n",
      "dtypes: float64(1), object(3)\n",
      "memory usage: 190.8+ KB\n"
     ]
    }
   ],
   "source": [
    "dados['category'] = dados['category'].apply(lambda x: x.replace('Profissional', ''))\n",
    "dados.info()"
   ]
  },
  {
   "cell_type": "code",
   "execution_count": 109,
   "metadata": {},
   "outputs": [
    {
     "data": {
      "text/plain": [
       "<seaborn.axisgrid.PairGrid at 0x7f28619300b8>"
      ]
     },
     "execution_count": 109,
     "metadata": {},
     "output_type": "execute_result"
    },
    {
     "data": {
      "text/plain": [
       "<Figure size 1152x576 with 0 Axes>"
      ]
     },
     "metadata": {},
     "output_type": "display_data"
    },
    {
     "data": {
      "image/png": "[encoded data removed]",
      "text/plain": [
       "<Figure size 180x180 with 2 Axes>"
      ]
     },
     "metadata": {
      "needs_background": "light"
     },
     "output_type": "display_data"
    }
   ],
   "source": [
    "plt.figure(figsize=(16,8))\n",
    "sns.pairplot(dados)"
   ]
  },
  {
   "cell_type": "code",
   "execution_count": 110,
   "metadata": {},
   "outputs": [
    {
     "data": {
      "text/plain": [
       "<matplotlib.axes._subplots.AxesSubplot at 0x7f2861992dd8>"
      ]
     },
     "execution_count": 110,
     "metadata": {},
     "output_type": "execute_result"
    },
    {
     "data": {
      "image/png": "[encoded data removed]",
      "text/plain": [
       "<Figure size 1152x576 with 1 Axes>"
      ]
     },
     "metadata": {
      "needs_background": "light"
     },
     "output_type": "display_data"
    }
   ],
   "source": [
    "plt.figure(figsize=(16,8))\n",
    "sns.countplot(x=dados['category'])"
   ]
  },
  {
   "cell_type": "code",
   "execution_count": 111,
   "metadata": {},
   "outputs": [
    {
     "data": {
      "text/html": [
       "<div>\n",
       "<style scoped>\n",
       "    .dataframe tbody tr th:only-of-type {\n",
       "        vertical-align: middle;\n",
       "    }\n",
       "\n",
       "    .dataframe tbody tr th {\n",
       "        vertical-align: top;\n",
       "    }\n",
       "\n",
       "    .dataframe thead th {\n",
       "        text-align: right;\n",
       "    }\n",
       "</style>\n",
       "<table border=\"1\" class=\"dataframe\">\n",
       "  <thead>\n",
       "    <tr style=\"text-align: right;\">\n",
       "      <th></th>\n",
       "      <th>price</th>\n",
       "    </tr>\n",
       "    <tr>\n",
       "      <th>category</th>\n",
       "      <th></th>\n",
       "    </tr>\n",
       "  </thead>\n",
       "  <tbody>\n",
       "    <tr>\n",
       "      <th>Aluguel de quartos</th>\n",
       "      <td>2.681240e+06</td>\n",
       "    </tr>\n",
       "    <tr>\n",
       "      <th>Apartamentos</th>\n",
       "      <td>2.638281e+05</td>\n",
       "    </tr>\n",
       "    <tr>\n",
       "      <th>ApartamentosProfissional</th>\n",
       "      <td>2.715284e+05</td>\n",
       "    </tr>\n",
       "    <tr>\n",
       "      <th>Casas</th>\n",
       "      <td>4.466106e+05</td>\n",
       "    </tr>\n",
       "    <tr>\n",
       "      <th>CasasProfissional</th>\n",
       "      <td>6.203176e+05</td>\n",
       "    </tr>\n",
       "    <tr>\n",
       "      <th>Comércio e indústria</th>\n",
       "      <td>3.354586e+05</td>\n",
       "    </tr>\n",
       "    <tr>\n",
       "      <th>Comércio e indústriaProfissional</th>\n",
       "      <td>3.908665e+05</td>\n",
       "    </tr>\n",
       "    <tr>\n",
       "      <th>LançamentosProfissional</th>\n",
       "      <td>1.408440e+05</td>\n",
       "    </tr>\n",
       "    <tr>\n",
       "      <th>Temporada</th>\n",
       "      <td>2.176038e+05</td>\n",
       "    </tr>\n",
       "    <tr>\n",
       "      <th>Terrenos, sítios e fazendas</th>\n",
       "      <td>5.730225e+05</td>\n",
       "    </tr>\n",
       "    <tr>\n",
       "      <th>Terrenos, sítios e fazendasProfissional</th>\n",
       "      <td>3.518439e+05</td>\n",
       "    </tr>\n",
       "  </tbody>\n",
       "</table>\n",
       "</div>"
      ],
      "text/plain": [
       "                                                price\n",
       "category                                             \n",
       "Aluguel de quartos                       2.681240e+06\n",
       "Apartamentos                             2.638281e+05\n",
       "ApartamentosProfissional                 2.715284e+05\n",
       "Casas                                    4.466106e+05\n",
       "CasasProfissional                        6.203176e+05\n",
       "Comércio e indústria                     3.354586e+05\n",
       "Comércio e indústriaProfissional         3.908665e+05\n",
       "LançamentosProfissional                  1.408440e+05\n",
       "Temporada                                2.176038e+05\n",
       "Terrenos, sítios e fazendas              5.730225e+05\n",
       "Terrenos, sítios e fazendasProfissional  3.518439e+05"
      ]
     },
     "execution_count": 111,
     "metadata": {},
     "output_type": "execute_result"
    }
   ],
   "source": [
    "groupby_category.mean()"
   ]
  },
  {
   "cell_type": "markdown",
   "metadata": {},
   "source": [
    "## Introdução ao teste de hipótese"
   ]
  },
  {
   "cell_type": "code",
   "execution_count": 112,
   "metadata": {},
   "outputs": [],
   "source": [
    "from scipy import stats"
   ]
  },
  {
   "cell_type": "markdown",
   "metadata": {},
   "source": [
    "Primeiramente vamos testar contra um valor conhecido"
   ]
  },
  {
   "cell_type": "code",
   "execution_count": 113,
   "metadata": {},
   "outputs": [
    {
     "data": {
      "text/plain": [
       "Ttest_1sampResult(statistic=10.893571929179984, pvalue=2.544938824786615e-27)"
      ]
     },
     "execution_count": 113,
     "metadata": {},
     "output_type": "execute_result"
    }
   ],
   "source": [
    "stats.ttest_1samp(dados['price'], 0)"
   ]
  },
  {
   "cell_type": "markdown",
   "metadata": {},
   "source": [
    "Comparar 2 populações é extremamente simples"
   ]
  },
  {
   "cell_type": "code",
   "execution_count": 114,
   "metadata": {},
   "outputs": [
    {
     "data": {
      "text/plain": [
       "Ttest_indResult(statistic=2.298344760978214, pvalue=0.02160629607140329)"
      ]
     },
     "execution_count": 114,
     "metadata": {},
     "output_type": "execute_result"
    }
   ],
   "source": [
    "precos_casas = dados[dados['category'] == 'Casas']['price']\n",
    "precos_ap = dados[dados['category'] == 'Apartamentos']['price']\n",
    "stats.ttest_ind(precos_casas, precos_ap)"
   ]
  },
  {
   "cell_type": "markdown",
   "metadata": {},
   "source": [
    "## Trabalhando com dados um pouco mais complexos"
   ]
  },
  {
   "cell_type": "code",
   "execution_count": 115,
   "metadata": {},
   "outputs": [
    {
     "name": "stdout",
     "output_type": "stream",
     "text": [
      "<class 'pandas.core.frame.DataFrame'>\n",
      "RangeIndex: 40 entries, 0 to 39\n",
      "Data columns (total 8 columns):\n",
      "Unnamed: 0    40 non-null int64\n",
      "Gender        40 non-null object\n",
      "FSIQ          40 non-null int64\n",
      "VIQ           40 non-null int64\n",
      "PIQ           40 non-null int64\n",
      "Weight        38 non-null float64\n",
      "Height        39 non-null float64\n",
      "MRI_Count     40 non-null int64\n",
      "dtypes: float64(2), int64(5), object(1)\n",
      "memory usage: 2.6+ KB\n"
     ]
    }
   ],
   "source": [
    "# https://scipy-lectures.org/_downloads/brain_size.csv\n",
    "dados_brain = pd.read_csv('https://scipy-lectures.org/_downloads/brain_size.csv', sep=';', na_values='.')\n",
    "dados_brain.info()"
   ]
  },
  {
   "cell_type": "code",
   "execution_count": 116,
   "metadata": {},
   "outputs": [
    {
     "data": {
      "text/plain": [
       "(40, 8)"
      ]
     },
     "execution_count": 116,
     "metadata": {},
     "output_type": "execute_result"
    }
   ],
   "source": [
    "dados_brain.shape"
   ]
  },
  {
   "cell_type": "code",
   "execution_count": 117,
   "metadata": {},
   "outputs": [],
   "source": [
    "dados_brain.dropna(how='any', inplace=True)"
   ]
  },
  {
   "cell_type": "code",
   "execution_count": 118,
   "metadata": {},
   "outputs": [
    {
     "data": {
      "text/plain": [
       "109.45"
      ]
     },
     "execution_count": 118,
     "metadata": {},
     "output_type": "execute_result"
    }
   ],
   "source": [
    "dados_brain[dados_brain['Gender'] == 'Female']['VIQ'].mean()"
   ]
  },
  {
   "cell_type": "code",
   "execution_count": 119,
   "metadata": {},
   "outputs": [
    {
     "name": "stdout",
     "output_type": "stream",
     "text": [
      "('Female', 109.45)\n",
      "('Male', 115.11111111111111)\n"
     ]
    }
   ],
   "source": [
    "groupby_gender = dados_brain.groupby('Gender')\n",
    "for gender, value in groupby_gender['VIQ']:\n",
    "    print((gender, value.mean()))"
   ]
  },
  {
   "cell_type": "code",
   "execution_count": 120,
   "metadata": {},
   "outputs": [
    {
     "data": {
      "text/html": [
       "<div>\n",
       "<style scoped>\n",
       "    .dataframe tbody tr th:only-of-type {\n",
       "        vertical-align: middle;\n",
       "    }\n",
       "\n",
       "    .dataframe tbody tr th {\n",
       "        vertical-align: top;\n",
       "    }\n",
       "\n",
       "    .dataframe thead th {\n",
       "        text-align: right;\n",
       "    }\n",
       "</style>\n",
       "<table border=\"1\" class=\"dataframe\">\n",
       "  <thead>\n",
       "    <tr style=\"text-align: right;\">\n",
       "      <th></th>\n",
       "      <th>Unnamed: 0</th>\n",
       "      <th>FSIQ</th>\n",
       "      <th>VIQ</th>\n",
       "      <th>PIQ</th>\n",
       "      <th>Weight</th>\n",
       "      <th>Height</th>\n",
       "      <th>MRI_Count</th>\n",
       "    </tr>\n",
       "    <tr>\n",
       "      <th>Gender</th>\n",
       "      <th></th>\n",
       "      <th></th>\n",
       "      <th></th>\n",
       "      <th></th>\n",
       "      <th></th>\n",
       "      <th></th>\n",
       "      <th></th>\n",
       "    </tr>\n",
       "  </thead>\n",
       "  <tbody>\n",
       "    <tr>\n",
       "      <th>Female</th>\n",
       "      <td>19.650000</td>\n",
       "      <td>111.900000</td>\n",
       "      <td>109.450000</td>\n",
       "      <td>110.450000</td>\n",
       "      <td>137.200000</td>\n",
       "      <td>65.765000</td>\n",
       "      <td>862654.600000</td>\n",
       "    </tr>\n",
       "    <tr>\n",
       "      <th>Male</th>\n",
       "      <td>22.444444</td>\n",
       "      <td>115.388889</td>\n",
       "      <td>115.111111</td>\n",
       "      <td>112.333333</td>\n",
       "      <td>166.444444</td>\n",
       "      <td>71.372222</td>\n",
       "      <td>955753.722222</td>\n",
       "    </tr>\n",
       "  </tbody>\n",
       "</table>\n",
       "</div>"
      ],
      "text/plain": [
       "        Unnamed: 0        FSIQ         VIQ         PIQ      Weight     Height  \\\n",
       "Gender                                                                          \n",
       "Female   19.650000  111.900000  109.450000  110.450000  137.200000  65.765000   \n",
       "Male     22.444444  115.388889  115.111111  112.333333  166.444444  71.372222   \n",
       "\n",
       "            MRI_Count  \n",
       "Gender                 \n",
       "Female  862654.600000  \n",
       "Male    955753.722222  "
      ]
     },
     "execution_count": 120,
     "metadata": {},
     "output_type": "execute_result"
    }
   ],
   "source": [
    "groupby_gender.mean()"
   ]
  },
  {
   "cell_type": "code",
   "execution_count": 129,
   "metadata": {},
   "outputs": [
    {
     "data": {
      "text/plain": [
       "<seaborn.axisgrid.PairGrid at 0x7f285d78df60>"
      ]
     },
     "execution_count": 129,
     "metadata": {},
     "output_type": "execute_result"
    },
    {
     "data": {
      "image/png": "[encoded data removed]",
      "text/plain": [
       "<Figure size 1332.62x1260 with 56 Axes>"
      ]
     },
     "metadata": {
      "needs_background": "light"
     },
     "output_type": "display_data"
    }
   ],
   "source": [
    "sns.pairplot(dados_brain, hue='Gender')"
   ]
  },
  {
   "cell_type": "code",
   "execution_count": 122,
   "metadata": {},
   "outputs": [
    {
     "data": {
      "text/plain": [
       "Ttest_1sampResult(statistic=30.132405743476752, pvalue=1.2294004595027533e-27)"
      ]
     },
     "execution_count": 122,
     "metadata": {},
     "output_type": "execute_result"
    }
   ],
   "source": [
    "stats.ttest_1samp(dados_brain['VIQ'], 0)"
   ]
  },
  {
   "cell_type": "code",
   "execution_count": 123,
   "metadata": {},
   "outputs": [
    {
     "data": {
      "text/plain": [
       "Ttest_indResult(statistic=-0.7551589849287512, pvalue=0.4550660394858371)"
      ]
     },
     "execution_count": 123,
     "metadata": {},
     "output_type": "execute_result"
    }
   ],
   "source": [
    "female_viq = dados_brain[dados_brain['Gender'] == 'Female']['VIQ']\n",
    "male_viq = dados_brain[dados_brain['Gender'] == 'Male']['VIQ']\n",
    "\n",
    "stats.ttest_ind(female_viq, male_viq) "
   ]
  },
  {
   "cell_type": "code",
   "execution_count": null,
   "metadata": {},
   "outputs": [],
   "source": []
  }
 ],
 "metadata": {
  "kernelspec": {
   "display_name": "Python 3",
   "language": "python",
   "name": "python3"
  },
  "language_info": {
   "codemirror_mode": {
    "name": "ipython",
    "version": 3
   },
   "file_extension": ".py",
   "mimetype": "text/x-python",
   "name": "python",
   "nbconvert_exporter": "python",
   "pygments_lexer": "ipython3",
   "version": "3.6.7"
  }
 },
 "nbformat": 4,
 "nbformat_minor": 2
}
